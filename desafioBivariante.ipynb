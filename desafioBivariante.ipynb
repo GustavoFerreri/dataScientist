{
 "cells": [
  {
   "cell_type": "markdown",
   "id": "d777bb02-be47-4604-a13c-c66d4401e796",
   "metadata": {},
   "source": [
    "# Practico bivariado"
   ]
  },
  {
   "cell_type": "markdown",
   "id": "6347c312-9645-48cd-9d1c-fe1f19485db2",
   "metadata": {},
   "source": [
    "### Consigna"
   ]
  },
  {
   "cell_type": "markdown",
   "id": "c272ba92-05cd-4675-bdbd-82571ad8fc68",
   "metadata": {},
   "source": [
    "Realizar un pequenno analisis bivariado, teniendo en cuenta las caracterizticas de la observacion. generando al menos 3 graficos.-"
   ]
  },
  {
   "cell_type": "markdown",
   "id": "8fbdbb56-1cce-4ba7-832d-0c9f48841752",
   "metadata": {},
   "source": [
    "- Camada: 18195\n",
    "- Tutor: Rober Ribero\n",
    "- Alumno: Ferreri, Gustavo"
   ]
  },
  {
   "cell_type": "markdown",
   "id": "2908d646-c2f0-4c2a-9ca7-b41c1460898f",
   "metadata": {},
   "source": [
    "### Desarrollo"
   ]
  },
  {
   "cell_type": "code",
   "execution_count": 1,
   "id": "093df88b-de92-41cf-b122-3aad5f7448c7",
   "metadata": {},
   "outputs": [],
   "source": [
    "# Importamos las librerias a utilizar\n",
    "import pandas as pd\n",
    "import matplotlib.pyplot as plt\n",
    "import numpy as np\n",
    "import pingouin as pg\n",
    "import seaborn as sns"
   ]
  },
  {
   "cell_type": "code",
   "execution_count": 2,
   "id": "cb499978-837c-40bf-90e4-4f2d3bd3cdd9",
   "metadata": {},
   "outputs": [],
   "source": [
    "#  Incorporamos las funciones desarrolladas en el practico anterior\n",
    "\n",
    "# Funcion para remover signo\n",
    "def limpiarSigno (data, *signo):\n",
    "    for i in range(len(signo)):\n",
    "        for j in data.columns:\n",
    "            if data[j].dtypes == 'object':\n",
    "                data[j] = data[j].str.replace(signo[i],'', regex=True)\n",
    "\n",
    "# Funcion para cambiar el tipo de datos              \n",
    "def cambiarTipo (data): \n",
    "    for i in data.columns.values: data[i] = data[i].astype('float' if data[i].iloc[0].find('.') == 1 else 'int64')\n",
    "\n",
    "# Funcion para crear tabla con el diagrama de Pareto\n",
    "class diagramaPareto:\n",
    "    def __init__ (self, data):\n",
    "        self.data = data\n",
    "        self.serie = self.data.value_counts()\n",
    "    # Metodo Generico para calcular el acumulado\n",
    "    def calcularAcumulado (self, data): return list(data.cumsum())  \n",
    "    def tabla (self):\n",
    "        # Establecemos el dataframe con los valores absolutos\n",
    "        df= pd.DataFrame(self.serie)\n",
    "        df.rename(columns={df.columns.values[0]:'freqAbs'}, inplace = True)\n",
    "        df['freqAbs _acu'] = self.calcularAcumulado(df['freqAbs'])\n",
    "        df['freqRel %'] = 100 * df['freqAbs'] / len(self.data.index)\n",
    "        df['freqRel % _acu'] = self.calcularAcumulado(df['freqRel %'])\n",
    "        return df"
   ]
  },
  {
   "cell_type": "code",
   "execution_count": 3,
   "id": "be432e6d-eece-4a6c-b522-77260c5ce27b",
   "metadata": {},
   "outputs": [],
   "source": [
    "#Cargamos el DataFrame, eliminando la ultima columna recidual con datos vacios\n",
    "data = pd.read_csv('AnnualTicketSales.csv', na_filter=True, skip_blank_lines=True)\n",
    "data = data.drop(data.columns[[-1]], axis ='columns')"
   ]
  },
  {
   "cell_type": "code",
   "execution_count": 4,
   "id": "b8a24ab2-c1f0-4bd0-9fdf-3db95475ab2c",
   "metadata": {},
   "outputs": [],
   "source": [
    "#Colocamos el Anno como indice del DF\n",
    "df = pd.DataFrame(data, index=data.index).set_index('YEAR')"
   ]
  },
  {
   "cell_type": "code",
   "execution_count": 5,
   "id": "71b21679-e622-4627-bb8f-cb2c85737a24",
   "metadata": {},
   "outputs": [],
   "source": [
    "#Aplicamos la funcion\n",
    "limpiarSigno(df, ',', '$')\n",
    "cambiarTipo(df)"
   ]
  },
  {
   "cell_type": "code",
   "execution_count": 6,
   "id": "b49809c5-7c49-4341-a316-1169cd7865a8",
   "metadata": {},
   "outputs": [
    {
     "data": {
      "text/html": [
       "<div>\n",
       "<style scoped>\n",
       "    .dataframe tbody tr th:only-of-type {\n",
       "        vertical-align: middle;\n",
       "    }\n",
       "\n",
       "    .dataframe tbody tr th {\n",
       "        vertical-align: top;\n",
       "    }\n",
       "\n",
       "    .dataframe thead th {\n",
       "        text-align: right;\n",
       "    }\n",
       "</style>\n",
       "<table border=\"1\" class=\"dataframe\">\n",
       "  <thead>\n",
       "    <tr style=\"text-align: right;\">\n",
       "      <th></th>\n",
       "      <th>TICKETS SOLD</th>\n",
       "      <th>TOTAL BOX OFFICE</th>\n",
       "      <th>TOTAL INFLATION ADJUSTED BOX OFFICE</th>\n",
       "      <th>AVERAGE TICKET PRICE</th>\n",
       "    </tr>\n",
       "    <tr>\n",
       "      <th>YEAR</th>\n",
       "      <th></th>\n",
       "      <th></th>\n",
       "      <th></th>\n",
       "      <th></th>\n",
       "    </tr>\n",
       "  </thead>\n",
       "  <tbody>\n",
       "    <tr>\n",
       "      <th>2021</th>\n",
       "      <td>423774881</td>\n",
       "      <td>3881777912</td>\n",
       "      <td>3881777912</td>\n",
       "      <td>9.16</td>\n",
       "    </tr>\n",
       "    <tr>\n",
       "      <th>2020</th>\n",
       "      <td>223638958</td>\n",
       "      <td>2048534616</td>\n",
       "      <td>2048534616</td>\n",
       "      <td>9.16</td>\n",
       "    </tr>\n",
       "    <tr>\n",
       "      <th>2019</th>\n",
       "      <td>1228541629</td>\n",
       "      <td>11253443955</td>\n",
       "      <td>11253444050</td>\n",
       "      <td>9.16</td>\n",
       "    </tr>\n",
       "    <tr>\n",
       "      <th>2018</th>\n",
       "      <td>1311536128</td>\n",
       "      <td>11948096650</td>\n",
       "      <td>12013670952</td>\n",
       "      <td>9.11</td>\n",
       "    </tr>\n",
       "    <tr>\n",
       "      <th>2017</th>\n",
       "      <td>1225639761</td>\n",
       "      <td>10993991460</td>\n",
       "      <td>11226860216</td>\n",
       "      <td>8.97</td>\n",
       "    </tr>\n",
       "    <tr>\n",
       "      <th>2016</th>\n",
       "      <td>1302556378</td>\n",
       "      <td>11267115924</td>\n",
       "      <td>11931416424</td>\n",
       "      <td>8.65</td>\n",
       "    </tr>\n",
       "    <tr>\n",
       "      <th>2015</th>\n",
       "      <td>1323356776</td>\n",
       "      <td>11155900636</td>\n",
       "      <td>12121948075</td>\n",
       "      <td>8.43</td>\n",
       "    </tr>\n",
       "    <tr>\n",
       "      <th>2014</th>\n",
       "      <td>1257402920</td>\n",
       "      <td>10272985008</td>\n",
       "      <td>11517810744</td>\n",
       "      <td>8.17</td>\n",
       "    </tr>\n",
       "    <tr>\n",
       "      <th>2013</th>\n",
       "      <td>1339168926</td>\n",
       "      <td>10887446341</td>\n",
       "      <td>12266787382</td>\n",
       "      <td>8.13</td>\n",
       "    </tr>\n",
       "    <tr>\n",
       "      <th>2012</th>\n",
       "      <td>1380921942</td>\n",
       "      <td>10992141616</td>\n",
       "      <td>12649244986</td>\n",
       "      <td>7.96</td>\n",
       "    </tr>\n",
       "    <tr>\n",
       "      <th>2011</th>\n",
       "      <td>1282915168</td>\n",
       "      <td>10173519704</td>\n",
       "      <td>11751502955</td>\n",
       "      <td>7.93</td>\n",
       "    </tr>\n",
       "    <tr>\n",
       "      <th>2010</th>\n",
       "      <td>1328549021</td>\n",
       "      <td>10482254025</td>\n",
       "      <td>12169509032</td>\n",
       "      <td>7.89</td>\n",
       "    </tr>\n",
       "    <tr>\n",
       "      <th>2009</th>\n",
       "      <td>1418567388</td>\n",
       "      <td>10639257284</td>\n",
       "      <td>12994051137</td>\n",
       "      <td>7.50</td>\n",
       "    </tr>\n",
       "    <tr>\n",
       "      <th>2008</th>\n",
       "      <td>1358042073</td>\n",
       "      <td>9750744148</td>\n",
       "      <td>12439665380</td>\n",
       "      <td>7.18</td>\n",
       "    </tr>\n",
       "    <tr>\n",
       "      <th>2007</th>\n",
       "      <td>1420036680</td>\n",
       "      <td>9769854914</td>\n",
       "      <td>13007535993</td>\n",
       "      <td>6.88</td>\n",
       "    </tr>\n",
       "    <tr>\n",
       "      <th>2006</th>\n",
       "      <td>1398738283</td>\n",
       "      <td>9161738221</td>\n",
       "      <td>12812442671</td>\n",
       "      <td>6.55</td>\n",
       "    </tr>\n",
       "    <tr>\n",
       "      <th>2005</th>\n",
       "      <td>1372980280</td>\n",
       "      <td>8800805718</td>\n",
       "      <td>12576499367</td>\n",
       "      <td>6.41</td>\n",
       "    </tr>\n",
       "    <tr>\n",
       "      <th>2004</th>\n",
       "      <td>1495651298</td>\n",
       "      <td>9287996519</td>\n",
       "      <td>13700165883</td>\n",
       "      <td>6.21</td>\n",
       "    </tr>\n",
       "    <tr>\n",
       "      <th>2003</th>\n",
       "      <td>1524589620</td>\n",
       "      <td>9193277289</td>\n",
       "      <td>13965240914</td>\n",
       "      <td>6.03</td>\n",
       "    </tr>\n",
       "    <tr>\n",
       "      <th>2002</th>\n",
       "      <td>1575756527</td>\n",
       "      <td>9155147215</td>\n",
       "      <td>14433929789</td>\n",
       "      <td>5.81</td>\n",
       "    </tr>\n",
       "    <tr>\n",
       "      <th>2001</th>\n",
       "      <td>1465874205</td>\n",
       "      <td>8296849636</td>\n",
       "      <td>13427407722</td>\n",
       "      <td>5.66</td>\n",
       "    </tr>\n",
       "    <tr>\n",
       "      <th>2000</th>\n",
       "      <td>1397460079</td>\n",
       "      <td>7532311479</td>\n",
       "      <td>12800734319</td>\n",
       "      <td>5.39</td>\n",
       "    </tr>\n",
       "    <tr>\n",
       "      <th>1999</th>\n",
       "      <td>1444664086</td>\n",
       "      <td>7338894852</td>\n",
       "      <td>13233123027</td>\n",
       "      <td>5.08</td>\n",
       "    </tr>\n",
       "    <tr>\n",
       "      <th>1998</th>\n",
       "      <td>1443832471</td>\n",
       "      <td>6771575283</td>\n",
       "      <td>13225505439</td>\n",
       "      <td>4.69</td>\n",
       "    </tr>\n",
       "    <tr>\n",
       "      <th>1997</th>\n",
       "      <td>1357349648</td>\n",
       "      <td>6230235770</td>\n",
       "      <td>12433322785</td>\n",
       "      <td>4.59</td>\n",
       "    </tr>\n",
       "    <tr>\n",
       "      <th>1996</th>\n",
       "      <td>1305221290</td>\n",
       "      <td>5769078886</td>\n",
       "      <td>11955781912</td>\n",
       "      <td>4.42</td>\n",
       "    </tr>\n",
       "    <tr>\n",
       "      <th>1995</th>\n",
       "      <td>1221705907</td>\n",
       "      <td>5314421390</td>\n",
       "      <td>11190826105</td>\n",
       "      <td>4.35</td>\n",
       "    </tr>\n",
       "  </tbody>\n",
       "</table>\n",
       "</div>"
      ],
      "text/plain": [
       "      TICKETS SOLD  TOTAL BOX OFFICE  TOTAL INFLATION ADJUSTED BOX OFFICE  \\\n",
       "YEAR                                                                        \n",
       "2021     423774881        3881777912                           3881777912   \n",
       "2020     223638958        2048534616                           2048534616   \n",
       "2019    1228541629       11253443955                          11253444050   \n",
       "2018    1311536128       11948096650                          12013670952   \n",
       "2017    1225639761       10993991460                          11226860216   \n",
       "2016    1302556378       11267115924                          11931416424   \n",
       "2015    1323356776       11155900636                          12121948075   \n",
       "2014    1257402920       10272985008                          11517810744   \n",
       "2013    1339168926       10887446341                          12266787382   \n",
       "2012    1380921942       10992141616                          12649244986   \n",
       "2011    1282915168       10173519704                          11751502955   \n",
       "2010    1328549021       10482254025                          12169509032   \n",
       "2009    1418567388       10639257284                          12994051137   \n",
       "2008    1358042073        9750744148                          12439665380   \n",
       "2007    1420036680        9769854914                          13007535993   \n",
       "2006    1398738283        9161738221                          12812442671   \n",
       "2005    1372980280        8800805718                          12576499367   \n",
       "2004    1495651298        9287996519                          13700165883   \n",
       "2003    1524589620        9193277289                          13965240914   \n",
       "2002    1575756527        9155147215                          14433929789   \n",
       "2001    1465874205        8296849636                          13427407722   \n",
       "2000    1397460079        7532311479                          12800734319   \n",
       "1999    1444664086        7338894852                          13233123027   \n",
       "1998    1443832471        6771575283                          13225505439   \n",
       "1997    1357349648        6230235770                          12433322785   \n",
       "1996    1305221290        5769078886                          11955781912   \n",
       "1995    1221705907        5314421390                          11190826105   \n",
       "\n",
       "      AVERAGE TICKET PRICE  \n",
       "YEAR                        \n",
       "2021                  9.16  \n",
       "2020                  9.16  \n",
       "2019                  9.16  \n",
       "2018                  9.11  \n",
       "2017                  8.97  \n",
       "2016                  8.65  \n",
       "2015                  8.43  \n",
       "2014                  8.17  \n",
       "2013                  8.13  \n",
       "2012                  7.96  \n",
       "2011                  7.93  \n",
       "2010                  7.89  \n",
       "2009                  7.50  \n",
       "2008                  7.18  \n",
       "2007                  6.88  \n",
       "2006                  6.55  \n",
       "2005                  6.41  \n",
       "2004                  6.21  \n",
       "2003                  6.03  \n",
       "2002                  5.81  \n",
       "2001                  5.66  \n",
       "2000                  5.39  \n",
       "1999                  5.08  \n",
       "1998                  4.69  \n",
       "1997                  4.59  \n",
       "1996                  4.42  \n",
       "1995                  4.35  "
      ]
     },
     "execution_count": 6,
     "metadata": {},
     "output_type": "execute_result"
    }
   ],
   "source": [
    "df"
   ]
  },
  {
   "cell_type": "code",
   "execution_count": 7,
   "id": "019eeb41-bb12-42b4-b3e9-f93a40d8a711",
   "metadata": {},
   "outputs": [
    {
     "data": {
      "image/png": "[encoded data removed]",
      "text/plain": [
       "<Figure size 792x576 with 3 Axes>"
      ]
     },
     "metadata": {
      "needs_background": "light"
     },
     "output_type": "display_data"
    }
   ],
   "source": [
    "# Incorporamos los analisis previos correspondiente al practico de Univariante\n",
    "fig, ax = plt.subplots(nrows=3, ncols=1, figsize=(11,8), sharex=True)\n",
    "ax[0].plot(df['AVERAGE TICKET PRICE'])\n",
    "ax[0].set_title('Evolucion del precio promedio')\n",
    "ax[1].bar(df.index, df['TICKETS SOLD'])\n",
    "ax[1].set_title('Ticket vendidos')\n",
    "ax[2].scatter(df.index, df['TOTAL BOX OFFICE'])\n",
    "ax[2].set_title('Taquilla')\n",
    "plt.suptitle('Practico Univariante', fontsize='18')\n",
    "plt.show()"
   ]
  },
  {
   "cell_type": "markdown",
   "id": "fcd7f4c1-3237-49af-94b3-bd4325c74ad5",
   "metadata": {},
   "source": [
    "### Desarrollamos una solucion"
   ]
  },
  {
   "cell_type": "code",
   "execution_count": 8,
   "id": "70bf20cf-abae-42f7-b2f3-53ffa37a493d",
   "metadata": {},
   "outputs": [
    {
     "data": {
      "image/png": "[encoded data removed]",
      "text/plain": [
       "<Figure size 432x288 with 2 Axes>"
      ]
     },
     "metadata": {
      "needs_background": "light"
     },
     "output_type": "display_data"
    }
   ],
   "source": [
    "ax = plt.axes()\n",
    "sns.heatmap(df.corr(), annot=True, cmap='Wistia', ax= ax)\n",
    "ax.set_title('Correlacion', fontsize=18)\n",
    "plt.show()"
   ]
  },
  {
   "cell_type": "code",
   "execution_count": 9,
   "id": "8d8bdaff-1ec8-4e40-a887-ba0fb1908339",
   "metadata": {},
   "outputs": [
    {
     "data": {
      "text/html": [
       "<div>\n",
       "<style scoped>\n",
       "    .dataframe tbody tr th:only-of-type {\n",
       "        vertical-align: middle;\n",
       "    }\n",
       "\n",
       "    .dataframe tbody tr th {\n",
       "        vertical-align: top;\n",
       "    }\n",
       "\n",
       "    .dataframe thead th {\n",
       "        text-align: right;\n",
       "    }\n",
       "</style>\n",
       "<table border=\"1\" class=\"dataframe\">\n",
       "  <thead>\n",
       "    <tr style=\"text-align: right;\">\n",
       "      <th></th>\n",
       "      <th>n</th>\n",
       "      <th>r</th>\n",
       "      <th>CI95%</th>\n",
       "      <th>p-val</th>\n",
       "      <th>BF10</th>\n",
       "      <th>power</th>\n",
       "    </tr>\n",
       "  </thead>\n",
       "  <tbody>\n",
       "    <tr>\n",
       "      <th>pearson</th>\n",
       "      <td>27</td>\n",
       "      <td>-0.484782</td>\n",
       "      <td>[-0.73, -0.13]</td>\n",
       "      <td>0.010384</td>\n",
       "      <td>5.403</td>\n",
       "      <td>0.749676</td>\n",
       "    </tr>\n",
       "  </tbody>\n",
       "</table>\n",
       "</div>"
      ],
      "text/plain": [
       "          n         r           CI95%     p-val   BF10     power\n",
       "pearson  27 -0.484782  [-0.73, -0.13]  0.010384  5.403  0.749676"
      ]
     },
     "metadata": {},
     "output_type": "display_data"
    },
    {
     "data": {
      "text/html": [
       "<div>\n",
       "<style scoped>\n",
       "    .dataframe tbody tr th:only-of-type {\n",
       "        vertical-align: middle;\n",
       "    }\n",
       "\n",
       "    .dataframe tbody tr th {\n",
       "        vertical-align: top;\n",
       "    }\n",
       "\n",
       "    .dataframe thead th {\n",
       "        text-align: right;\n",
       "    }\n",
       "</style>\n",
       "<table border=\"1\" class=\"dataframe\">\n",
       "  <thead>\n",
       "    <tr style=\"text-align: right;\">\n",
       "      <th></th>\n",
       "      <th>n</th>\n",
       "      <th>r</th>\n",
       "      <th>CI95%</th>\n",
       "      <th>p-val</th>\n",
       "      <th>BF10</th>\n",
       "      <th>power</th>\n",
       "    </tr>\n",
       "  </thead>\n",
       "  <tbody>\n",
       "    <tr>\n",
       "      <th>pearson</th>\n",
       "      <td>27</td>\n",
       "      <td>0.615514</td>\n",
       "      <td>[0.31, 0.81]</td>\n",
       "      <td>0.000632</td>\n",
       "      <td>60.744</td>\n",
       "      <td>0.946237</td>\n",
       "    </tr>\n",
       "  </tbody>\n",
       "</table>\n",
       "</div>"
      ],
      "text/plain": [
       "          n         r         CI95%     p-val    BF10     power\n",
       "pearson  27  0.615514  [0.31, 0.81]  0.000632  60.744  0.946237"
      ]
     },
     "metadata": {},
     "output_type": "display_data"
    },
    {
     "data": {
      "text/html": [
       "<div>\n",
       "<style scoped>\n",
       "    .dataframe tbody tr th:only-of-type {\n",
       "        vertical-align: middle;\n",
       "    }\n",
       "\n",
       "    .dataframe tbody tr th {\n",
       "        vertical-align: top;\n",
       "    }\n",
       "\n",
       "    .dataframe thead th {\n",
       "        text-align: right;\n",
       "    }\n",
       "</style>\n",
       "<table border=\"1\" class=\"dataframe\">\n",
       "  <thead>\n",
       "    <tr style=\"text-align: right;\">\n",
       "      <th></th>\n",
       "      <th>n</th>\n",
       "      <th>r</th>\n",
       "      <th>CI95%</th>\n",
       "      <th>p-val</th>\n",
       "      <th>BF10</th>\n",
       "      <th>power</th>\n",
       "    </tr>\n",
       "  </thead>\n",
       "  <tbody>\n",
       "    <tr>\n",
       "      <th>pearson</th>\n",
       "      <td>27</td>\n",
       "      <td>0.38543</td>\n",
       "      <td>[0.01, 0.67]</td>\n",
       "      <td>0.047094</td>\n",
       "      <td>1.555</td>\n",
       "      <td>0.524965</td>\n",
       "    </tr>\n",
       "  </tbody>\n",
       "</table>\n",
       "</div>"
      ],
      "text/plain": [
       "          n        r         CI95%     p-val   BF10     power\n",
       "pearson  27  0.38543  [0.01, 0.67]  0.047094  1.555  0.524965"
      ]
     },
     "metadata": {},
     "output_type": "display_data"
    }
   ],
   "source": [
    "display(pg.corr(df['TICKETS SOLD'], df['AVERAGE TICKET PRICE'], method='pearson'),\n",
    "pg.corr(df['TICKETS SOLD'], df['TOTAL BOX OFFICE'], method='pearson'),\n",
    "pg.corr(df['TOTAL BOX OFFICE'], df['AVERAGE TICKET PRICE'], method='pearson'))"
   ]
  },
  {
   "cell_type": "code",
   "execution_count": 10,
   "id": "aeb857bd-f58a-451d-9073-e5a778554375",
   "metadata": {},
   "outputs": [
    {
     "data": {
      "text/html": [
       "<div>\n",
       "<style scoped>\n",
       "    .dataframe tbody tr th:only-of-type {\n",
       "        vertical-align: middle;\n",
       "    }\n",
       "\n",
       "    .dataframe tbody tr th {\n",
       "        vertical-align: top;\n",
       "    }\n",
       "\n",
       "    .dataframe thead th {\n",
       "        text-align: right;\n",
       "    }\n",
       "</style>\n",
       "<table border=\"1\" class=\"dataframe\">\n",
       "  <thead>\n",
       "    <tr style=\"text-align: right;\">\n",
       "      <th></th>\n",
       "      <th>n</th>\n",
       "      <th>r</th>\n",
       "      <th>CI95%</th>\n",
       "      <th>p-val</th>\n",
       "      <th>power</th>\n",
       "    </tr>\n",
       "  </thead>\n",
       "  <tbody>\n",
       "    <tr>\n",
       "      <th>kendall</th>\n",
       "      <td>27</td>\n",
       "      <td>-0.452079</td>\n",
       "      <td>[-0.71, -0.09]</td>\n",
       "      <td>0.000979</td>\n",
       "      <td>0.67907</td>\n",
       "    </tr>\n",
       "  </tbody>\n",
       "</table>\n",
       "</div>"
      ],
      "text/plain": [
       "          n         r           CI95%     p-val    power\n",
       "kendall  27 -0.452079  [-0.71, -0.09]  0.000979  0.67907"
      ]
     },
     "metadata": {},
     "output_type": "display_data"
    },
    {
     "data": {
      "text/html": [
       "<div>\n",
       "<style scoped>\n",
       "    .dataframe tbody tr th:only-of-type {\n",
       "        vertical-align: middle;\n",
       "    }\n",
       "\n",
       "    .dataframe tbody tr th {\n",
       "        vertical-align: top;\n",
       "    }\n",
       "\n",
       "    .dataframe thead th {\n",
       "        text-align: right;\n",
       "    }\n",
       "</style>\n",
       "<table border=\"1\" class=\"dataframe\">\n",
       "  <thead>\n",
       "    <tr style=\"text-align: right;\">\n",
       "      <th></th>\n",
       "      <th>n</th>\n",
       "      <th>r</th>\n",
       "      <th>CI95%</th>\n",
       "      <th>p-val</th>\n",
       "      <th>power</th>\n",
       "    </tr>\n",
       "  </thead>\n",
       "  <tbody>\n",
       "    <tr>\n",
       "      <th>kendall</th>\n",
       "      <td>27</td>\n",
       "      <td>-0.065527</td>\n",
       "      <td>[-0.43, 0.32]</td>\n",
       "      <td>0.649567</td>\n",
       "      <td>0.061736</td>\n",
       "    </tr>\n",
       "  </tbody>\n",
       "</table>\n",
       "</div>"
      ],
      "text/plain": [
       "          n         r          CI95%     p-val     power\n",
       "kendall  27 -0.065527  [-0.43, 0.32]  0.649567  0.061736"
      ]
     },
     "metadata": {},
     "output_type": "display_data"
    },
    {
     "data": {
      "text/html": [
       "<div>\n",
       "<style scoped>\n",
       "    .dataframe tbody tr th:only-of-type {\n",
       "        vertical-align: middle;\n",
       "    }\n",
       "\n",
       "    .dataframe tbody tr th {\n",
       "        vertical-align: top;\n",
       "    }\n",
       "\n",
       "    .dataframe thead th {\n",
       "        text-align: right;\n",
       "    }\n",
       "</style>\n",
       "<table border=\"1\" class=\"dataframe\">\n",
       "  <thead>\n",
       "    <tr style=\"text-align: right;\">\n",
       "      <th></th>\n",
       "      <th>n</th>\n",
       "      <th>r</th>\n",
       "      <th>CI95%</th>\n",
       "      <th>p-val</th>\n",
       "      <th>power</th>\n",
       "    </tr>\n",
       "  </thead>\n",
       "  <tbody>\n",
       "    <tr>\n",
       "      <th>kendall</th>\n",
       "      <td>27</td>\n",
       "      <td>0.618031</td>\n",
       "      <td>[0.31, 0.81]</td>\n",
       "      <td>0.000007</td>\n",
       "      <td>0.948402</td>\n",
       "    </tr>\n",
       "  </tbody>\n",
       "</table>\n",
       "</div>"
      ],
      "text/plain": [
       "          n         r         CI95%     p-val     power\n",
       "kendall  27  0.618031  [0.31, 0.81]  0.000007  0.948402"
      ]
     },
     "metadata": {},
     "output_type": "display_data"
    }
   ],
   "source": [
    "display(pg.corr(df['TICKETS SOLD'], df['AVERAGE TICKET PRICE'], method='kendall'),\n",
    "pg.corr(df['TICKETS SOLD'], df['TOTAL BOX OFFICE'], method='kendall'),\n",
    "pg.corr(df['TOTAL BOX OFFICE'], df['AVERAGE TICKET PRICE'], method='kendall'))"
   ]
  },
  {
   "cell_type": "code",
   "execution_count": 11,
   "id": "252a3657-efa1-4167-a669-021d63874b55",
   "metadata": {},
   "outputs": [
    {
     "data": {
      "text/html": [
       "<div>\n",
       "<style scoped>\n",
       "    .dataframe tbody tr th:only-of-type {\n",
       "        vertical-align: middle;\n",
       "    }\n",
       "\n",
       "    .dataframe tbody tr th {\n",
       "        vertical-align: top;\n",
       "    }\n",
       "\n",
       "    .dataframe thead th {\n",
       "        text-align: right;\n",
       "    }\n",
       "</style>\n",
       "<table border=\"1\" class=\"dataframe\">\n",
       "  <thead>\n",
       "    <tr style=\"text-align: right;\">\n",
       "      <th></th>\n",
       "      <th>n</th>\n",
       "      <th>r</th>\n",
       "      <th>CI95%</th>\n",
       "      <th>p-val</th>\n",
       "      <th>power</th>\n",
       "    </tr>\n",
       "  </thead>\n",
       "  <tbody>\n",
       "    <tr>\n",
       "      <th>spearman</th>\n",
       "      <td>27</td>\n",
       "      <td>-0.569334</td>\n",
       "      <td>[-0.78, -0.24]</td>\n",
       "      <td>0.001939</td>\n",
       "      <td>0.895475</td>\n",
       "    </tr>\n",
       "  </tbody>\n",
       "</table>\n",
       "</div>"
      ],
      "text/plain": [
       "           n         r           CI95%     p-val     power\n",
       "spearman  27 -0.569334  [-0.78, -0.24]  0.001939  0.895475"
      ]
     },
     "metadata": {},
     "output_type": "display_data"
    },
    {
     "data": {
      "text/html": [
       "<div>\n",
       "<style scoped>\n",
       "    .dataframe tbody tr th:only-of-type {\n",
       "        vertical-align: middle;\n",
       "    }\n",
       "\n",
       "    .dataframe tbody tr th {\n",
       "        vertical-align: top;\n",
       "    }\n",
       "\n",
       "    .dataframe thead th {\n",
       "        text-align: right;\n",
       "    }\n",
       "</style>\n",
       "<table border=\"1\" class=\"dataframe\">\n",
       "  <thead>\n",
       "    <tr style=\"text-align: right;\">\n",
       "      <th></th>\n",
       "      <th>n</th>\n",
       "      <th>r</th>\n",
       "      <th>CI95%</th>\n",
       "      <th>p-val</th>\n",
       "      <th>power</th>\n",
       "    </tr>\n",
       "  </thead>\n",
       "  <tbody>\n",
       "    <tr>\n",
       "      <th>spearman</th>\n",
       "      <td>27</td>\n",
       "      <td>-0.075702</td>\n",
       "      <td>[-0.44, 0.31]</td>\n",
       "      <td>0.707448</td>\n",
       "      <td>0.065907</td>\n",
       "    </tr>\n",
       "  </tbody>\n",
       "</table>\n",
       "</div>"
      ],
      "text/plain": [
       "           n         r          CI95%     p-val     power\n",
       "spearman  27 -0.075702  [-0.44, 0.31]  0.707448  0.065907"
      ]
     },
     "metadata": {},
     "output_type": "display_data"
    },
    {
     "data": {
      "text/html": [
       "<div>\n",
       "<style scoped>\n",
       "    .dataframe tbody tr th:only-of-type {\n",
       "        vertical-align: middle;\n",
       "    }\n",
       "\n",
       "    .dataframe tbody tr th {\n",
       "        vertical-align: top;\n",
       "    }\n",
       "\n",
       "    .dataframe thead th {\n",
       "        text-align: right;\n",
       "    }\n",
       "</style>\n",
       "<table border=\"1\" class=\"dataframe\">\n",
       "  <thead>\n",
       "    <tr style=\"text-align: right;\">\n",
       "      <th></th>\n",
       "      <th>n</th>\n",
       "      <th>r</th>\n",
       "      <th>CI95%</th>\n",
       "      <th>p-val</th>\n",
       "      <th>power</th>\n",
       "    </tr>\n",
       "  </thead>\n",
       "  <tbody>\n",
       "    <tr>\n",
       "      <th>spearman</th>\n",
       "      <td>27</td>\n",
       "      <td>0.58033</td>\n",
       "      <td>[0.26, 0.79]</td>\n",
       "      <td>0.001507</td>\n",
       "      <td>0.909499</td>\n",
       "    </tr>\n",
       "  </tbody>\n",
       "</table>\n",
       "</div>"
      ],
      "text/plain": [
       "           n        r         CI95%     p-val     power\n",
       "spearman  27  0.58033  [0.26, 0.79]  0.001507  0.909499"
      ]
     },
     "metadata": {},
     "output_type": "display_data"
    }
   ],
   "source": [
    "display(pg.corr(df['TICKETS SOLD'], df['AVERAGE TICKET PRICE'], method='spearman'),\n",
    "pg.corr(df['TICKETS SOLD'], df['TOTAL BOX OFFICE'], method='spearman'),\n",
    "pg.corr(df['TOTAL BOX OFFICE'], df['AVERAGE TICKET PRICE'], method='spearman'))"
   ]
  },
  {
   "cell_type": "code",
   "execution_count": 12,
   "id": "0503247c-f743-4b1a-b534-8b13a09e9e12",
   "metadata": {},
   "outputs": [
    {
     "data": {
      "image/png": "[encoded data removed]",
      "text/plain": [
       "<Figure size 1296x288 with 3 Axes>"
      ]
     },
     "metadata": {
      "needs_background": "light"
     },
     "output_type": "display_data"
    }
   ],
   "source": [
    "fig, ax = plt.subplots(1, 3, figsize=(18,4))\n",
    "ax[0].scatter(x= df['AVERAGE TICKET PRICE'], y= df['TICKETS SOLD'], alpha= 0.8)\n",
    "ax[0].set_xlabel('Precio promedio')\n",
    "ax[0].set_ylabel('Ticket Vendidos');\n",
    "ax[1].scatter(x=df['TOTAL BOX OFFICE'], y= df['TICKETS SOLD'], alpha= 0.8)\n",
    "ax[1].set_xlabel('Taquilla')\n",
    "ax[1].set_ylabel('Ticket Vendidos');\n",
    "ax[2].scatter(x=df['TOTAL BOX OFFICE'], y= df['AVERAGE TICKET PRICE'], alpha= 0.8)\n",
    "ax[2].set_xlabel('Taquilla')\n",
    "ax[2].set_ylabel('Precio promedio');\n",
    "plt.suptitle('Relacion entre datos, mediante Scatter', fontsize=18)\n",
    "plt.show()"
   ]
  },
  {
   "cell_type": "code",
   "execution_count": 13,
   "id": "a80e3a7b-e01b-464e-949a-8e450a10fc5b",
   "metadata": {},
   "outputs": [
    {
     "data": {
      "image/png": "[encoded data removed]",
      "text/plain": [
       "<Figure size 432x288 with 2 Axes>"
      ]
     },
     "metadata": {
      "needs_background": "light"
     },
     "output_type": "display_data"
    }
   ],
   "source": [
    "plt.hist2d(df['TOTAL BOX OFFICE'], df['AVERAGE TICKET PRICE'], bins = (15, 10));\n",
    "plt.colorbar();\n",
    "plt.suptitle('Relacion entre datos, histograma 2D', fontsize=18)\n",
    "plt.show()"
   ]
  },
  {
   "cell_type": "code",
   "execution_count": null,
   "id": "3c8c42dc-f2a1-4d83-bf44-c3173a87b693",
   "metadata": {},
   "outputs": [],
   "source": []
  }
 ],
 "metadata": {
  "kernelspec": {
   "display_name": "Python 3 (ipykernel)",
   "language": "python",
   "name": "python3"
  },
  "language_info": {
   "codemirror_mode": {
    "name": "ipython",
    "version": 3
   },
   "file_extension": ".py",
   "mimetype": "text/x-python",
   "name": "python",
   "nbconvert_exporter": "python",
   "pygments_lexer": "ipython3",
   "version": "3.10.1"
  }
 },
 "nbformat": 4,
 "nbformat_minor": 5
}
